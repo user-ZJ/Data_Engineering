{
 "cells": [
  {
   "cell_type": "markdown",
   "metadata": {},
   "source": [
    "﻿# 使用 Spark SQL 进行数据处理的代码测验\n",
    "\n",
    "这个测验用了和 \"测试 -用 dataframe 进行数据处理” 相同的数据集，大多数问题也相同。但这次请使用 Spark SQL 而不是 Spark dataframe。"
   ]
  },
  {
   "cell_type": "code",
   "execution_count": null,
   "metadata": {},
   "outputs": [],
   "source": [
    "from pyspark.sql import SparkSession\n",
    "\n",
    "# TODOS: \n",
    "# 1) import any other libraries you might need\n",
    "# 2) instantiate a Spark session \n",
    "# 3) read in the data set located at the path \"data/sparkify_log_small.json\"\n",
    "# 4) create a view to use with your SQL queries\n",
    "# 5) write code to answer the quiz questions "
   ]
  },
  {
   "cell_type": "markdown",
   "metadata": {},
   "source": [
    "# 问题1\n",
    "\n",
    "userID 为“”（空字符串）的用户没有访问哪个页面？"
   ]
  },
  {
   "cell_type": "code",
   "execution_count": null,
   "metadata": {},
   "outputs": [],
   "source": [
    "# TODO: write your code to answer question 1"
   ]
  },
  {
   "cell_type": "markdown",
   "metadata": {},
   "source": [
    "# 问题2  \n",
    "\n",
    "比起 dataframe 你为啥更喜欢用 Sql？比起 SQL 你为啥更喜欢 dataframe？\n",
    "\n",
    "# 问题3\n",
    "\n",
    "数据集中有多少女性用户？"
   ]
  },
  {
   "cell_type": "code",
   "execution_count": null,
   "metadata": {},
   "outputs": [],
   "source": [
    "# TODO: write your code to answer question 3"
   ]
  },
  {
   "cell_type": "markdown",
   "metadata": {},
   "source": [
    "# 问题4\n",
    "\n",
    "最受欢迎的艺术家（most played artist）的歌曲中，一共有多少首被播放了？"
   ]
  },
  {
   "cell_type": "code",
   "execution_count": null,
   "metadata": {},
   "outputs": [],
   "source": [
    "# TODO: write your code to answer question 4"
   ]
  },
  {
   "cell_type": "markdown",
   "metadata": {},
   "source": [
    "# 问题5（高难度）\n",
    "\n",
    "每次访问我们的主页，用户平均听多少首歌曲？请将你的答案四舍五入到最接近的整数。\n",
    "\n",
    "\n",
    "```python\n",
    "# TODO: write your code to answer question 5\n",
    "```"
   ]
  }
 ],
 "metadata": {},
 "nbformat": 4,
 "nbformat_minor": 2
}
